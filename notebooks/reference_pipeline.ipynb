{
 "cells": [
  {
   "cell_type": "markdown",
   "metadata": {},
   "source": [
    "### Reference Pipeline - Python way\n",
    "\n",
    "Reference data processing pipeline for vehicle image dataset using 2024-04-24 dataset."
   ]
  },
  {
   "cell_type": "markdown",
   "metadata": {},
   "source": [
    "Remember to go though getting started guide in README.md to install all dependency"
   ]
  },
  {
   "cell_type": "code",
   "execution_count": 2,
   "metadata": {},
   "outputs": [
    {
     "name": "stdout",
     "output_type": "stream",
     "text": [
      "Available rules:\n",
      "\n",
      "requirements             Install Python Dependencies\n",
      "clean                    Delete all compiled Python files\n",
      "lint                     Lint using flake8 and black (use `make format` to do formatting)\n",
      "format                   Format source code with black\n",
      "create_environment       Set up python interpreter environment\n",
      "data                     Make Dataset\n"
     ]
    }
   ],
   "source": [
    "!make -f ../Makefile create_environment"
   ]
  },
  {
   "cell_type": "code",
   "execution_count": 1,
   "metadata": {},
   "outputs": [],
   "source": [
    "from src.utils import CoordinateMode, load_yaml_file\n",
    "\n",
    "CONFIG_PATH = \"../config/config.yaml\"\n",
    "config = load_yaml_file(CONFIG_PATH)"
   ]
  },
  {
   "cell_type": "markdown",
   "metadata": {},
   "source": [
    "#### Step 1: Convert yolo (txt) dataset to csv"
   ]
  },
  {
   "cell_type": "code",
   "execution_count": null,
   "metadata": {},
   "outputs": [],
   "source": [
    "from src.yolo_to_csv import yolo_to_csv\n",
    "\n",
    "yolo_to_csv(\n",
    "    input_folder=\"\", \n",
    "    output_file=\"\",\n",
    "    mode=CoordinateMode.xywh,\n",
    "    csv_header=config[\"yolo_to_csv_header\"]\n",
    ")"
   ]
  },
  {
   "cell_type": "markdown",
   "metadata": {},
   "source": [
    "#### Step 2: Annotate or verify the image"
   ]
  },
  {
   "cell_type": "code",
   "execution_count": null,
   "metadata": {},
   "outputs": [],
   "source": [
    "from src.annotate_image import ImageAnnotatorApp\n",
    "\n",
    "# One of the way, but does not recommend run in notebook, as the app may stuck when trying to close\n",
    "app = ImageAnnotatorApp(csv_file=\"\", config_file=CONFIG_PATH)\n",
    "app.start()"
   ]
  },
  {
   "cell_type": "markdown",
   "metadata": {},
   "source": [
    "#### Step 3: Process from interim (verified) data to processed data\n",
    "It make sure the processed_data follow the required format and rename the image with md5"
   ]
  },
  {
   "cell_type": "code",
   "execution_count": null,
   "metadata": {},
   "outputs": [
    {
     "name": "stderr",
     "output_type": "stream",
     "text": [
      "UsageError: Line magic function `%python3` not found (But cell magic `%%python3` exists, did you mean that instead?).\n"
     ]
    }
   ],
   "source": [
    "from src.interim_to_processed import interim_to_processed\n",
    "\n",
    "interim_to_processed(\n",
    "    csv_file = \"\",\n",
    "    output_folder = \"\",\n",
    "    config_file = CONFIG_PATH\n",
    ")"
   ]
  },
  {
   "cell_type": "markdown",
   "metadata": {},
   "source": [
    "#### Step 4: Combine all processed data"
   ]
  },
  {
   "cell_type": "code",
   "execution_count": null,
   "metadata": {},
   "outputs": [],
   "source": [
    "from src.combine_csv import combine_csv\n",
    "\n",
    "combine_csv(\n",
    "    csv_files = \"\",\n",
    "    output_file = \"\"\n",
    ")"
   ]
  },
  {
   "cell_type": "code",
   "execution_count": null,
   "metadata": {},
   "outputs": [],
   "source": [
    "!bash src/copy_images.sh data/3-processed/ data/4-combined/images"
   ]
  }
 ],
 "metadata": {
  "kernelspec": {
   "display_name": "vehicle-image-dataset-cmjyV_nn",
   "language": "python",
   "name": "python3"
  },
  "language_info": {
   "codemirror_mode": {
    "name": "ipython",
    "version": 3
   },
   "file_extension": ".py",
   "mimetype": "text/x-python",
   "name": "python",
   "nbconvert_exporter": "python",
   "pygments_lexer": "ipython3",
   "version": "3.10.12"
  }
 },
 "nbformat": 4,
 "nbformat_minor": 2
}
